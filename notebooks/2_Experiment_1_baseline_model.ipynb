{
 "cells": [
  {
   "cell_type": "code",
   "execution_count": 30,
   "id": "73ff29c3",
   "metadata": {},
   "outputs": [
    {
     "name": "stdout",
     "output_type": "stream",
     "text": [
      "🏃 View run honorable-hog-402 at: http://ec2-13-211-98-126.ap-southeast-2.compute.amazonaws.com:5000/#/experiments/686491804147444376/runs/5aff2872e70541539a0566c2616f11b8\n",
      "🧪 View experiment at: http://ec2-13-211-98-126.ap-southeast-2.compute.amazonaws.com:5000/#/experiments/686491804147444376\n"
     ]
    }
   ],
   "source": [
    "import mlflow\n",
    "mlflow.set_tracking_uri(\"http://ec2-13-211-98-126.ap-southeast-2.compute.amazonaws.com:5000/\")\n",
    "with mlflow.start_run():\n",
    "    mlflow.log_param(\"param1\", 24)\n",
    "    mlflow.log_metric(\"metric1\", 0.389)"
   ]
  },
  {
   "cell_type": "code",
   "execution_count": 2,
   "id": "1f1c4b4a",
   "metadata": {},
   "outputs": [],
   "source": [
    "import numpy as np\n",
    "import pandas as pd"
   ]
  },
  {
   "cell_type": "code",
   "execution_count": 3,
   "id": "a68720f7",
   "metadata": {},
   "outputs": [
    {
     "data": {
      "text/html": [
       "<div>\n",
       "<style scoped>\n",
       "    .dataframe tbody tr th:only-of-type {\n",
       "        vertical-align: middle;\n",
       "    }\n",
       "\n",
       "    .dataframe tbody tr th {\n",
       "        vertical-align: top;\n",
       "    }\n",
       "\n",
       "    .dataframe thead th {\n",
       "        text-align: right;\n",
       "    }\n",
       "</style>\n",
       "<table border=\"1\" class=\"dataframe\">\n",
       "  <thead>\n",
       "    <tr style=\"text-align: right;\">\n",
       "      <th></th>\n",
       "      <th>clean_comment</th>\n",
       "      <th>category</th>\n",
       "    </tr>\n",
       "  </thead>\n",
       "  <tbody>\n",
       "    <tr>\n",
       "      <th>0</th>\n",
       "      <td>family mormon have never tried explain them t...</td>\n",
       "      <td>1</td>\n",
       "    </tr>\n",
       "    <tr>\n",
       "      <th>1</th>\n",
       "      <td>buddhism has very much lot compatible with chr...</td>\n",
       "      <td>1</td>\n",
       "    </tr>\n",
       "    <tr>\n",
       "      <th>2</th>\n",
       "      <td>seriously don say thing first all they won get...</td>\n",
       "      <td>-1</td>\n",
       "    </tr>\n",
       "    <tr>\n",
       "      <th>3</th>\n",
       "      <td>what you have learned yours and only yours wha...</td>\n",
       "      <td>0</td>\n",
       "    </tr>\n",
       "    <tr>\n",
       "      <th>4</th>\n",
       "      <td>for your own benefit you may want read living ...</td>\n",
       "      <td>1</td>\n",
       "    </tr>\n",
       "  </tbody>\n",
       "</table>\n",
       "</div>"
      ],
      "text/plain": [
       "                                       clean_comment  category\n",
       "0   family mormon have never tried explain them t...         1\n",
       "1  buddhism has very much lot compatible with chr...         1\n",
       "2  seriously don say thing first all they won get...        -1\n",
       "3  what you have learned yours and only yours wha...         0\n",
       "4  for your own benefit you may want read living ...         1"
      ]
     },
     "execution_count": 3,
     "metadata": {},
     "output_type": "execute_result"
    }
   ],
   "source": [
    "df = pd.read_csv('https://raw.githubusercontent.com/Himanshu-1703/reddit-sentiment-analysis/refs/heads/main/data/reddit.csv')\n",
    "df.head()\n",
    "     "
   ]
  },
  {
   "cell_type": "code",
   "execution_count": 4,
   "id": "16568f0a",
   "metadata": {},
   "outputs": [],
   "source": [
    "df.dropna(inplace = True)\n",
    "df.drop_duplicates(inplace = True)\n"
   ]
  },
  {
   "cell_type": "code",
   "execution_count": 5,
   "id": "d3f805f5",
   "metadata": {},
   "outputs": [],
   "source": [
    "df = df[~(df['clean_comment'].str.strip() == '')]"
   ]
  },
  {
   "cell_type": "code",
   "execution_count": 6,
   "id": "4411a0ed",
   "metadata": {},
   "outputs": [
    {
     "name": "stderr",
     "output_type": "stream",
     "text": [
      "[nltk_data] Downloading package stopwords to\n",
      "[nltk_data]     C:\\Users\\RadhikaMaheshwari\\AppData\\Roaming\\nltk_data..\n",
      "[nltk_data]     .\n",
      "[nltk_data]   Package stopwords is already up-to-date!\n",
      "[nltk_data] Downloading package wordnet to\n",
      "[nltk_data]     C:\\Users\\RadhikaMaheshwari\\AppData\\Roaming\\nltk_data..\n",
      "[nltk_data]     .\n",
      "[nltk_data]   Package wordnet is already up-to-date!\n"
     ]
    },
    {
     "data": {
      "text/plain": [
       "True"
      ]
     },
     "execution_count": 6,
     "metadata": {},
     "output_type": "execute_result"
    }
   ],
   "source": [
    "import re\n",
    "import nltk\n",
    "from nltk.corpus import stopwords\n",
    "from nltk.stem import WordNetLemmatizer\n",
    "nltk.download('stopwords')\n",
    "nltk.download('wordnet')"
   ]
  },
  {
   "cell_type": "code",
   "execution_count": 7,
   "id": "e647856a",
   "metadata": {},
   "outputs": [],
   "source": [
    "# Define preprocessing function\n",
    "def preprocess_comment(comment):\n",
    "    comment = comment.lower()\n",
    "    comment = comment.strip()\n",
    "    # Remove newline characters\n",
    "    comment = re.sub(r'\\n', ' ', comment)\n",
    "\n",
    "    # Remove non alphanumeric characters except punctuation\n",
    "    comment = re.sub(r'[^A-Za-z0-9\\s!?.,]', '', comment)\n",
    "\n",
    "    # Remove stop words but retain the important ones for sentiment analysis\n",
    "    stop_words = set(stopwords.words('english')) - {'not', 'but', 'however', 'yet', 'no'}\n",
    "    comment = ' '.join([word for word in comment.split() if word not in stop_words])\n",
    "\n",
    "    # Lemmatize the word\n",
    "    lemmatizer = WordNetLemmatizer()\n",
    "    comment = ' '.join([lemmatizer.lemmatize(word) for word in comment.split()])\n",
    "\n",
    "    return comment\n"
   ]
  },
  {
   "cell_type": "code",
   "execution_count": 12,
   "id": "aede154b",
   "metadata": {},
   "outputs": [],
   "source": [
    "# Apply the preprocessing cuntion to the clean_comment column\n",
    "df['clean_comment'] = df['clean_comment'].apply(preprocess_comment)"
   ]
  },
  {
   "cell_type": "code",
   "execution_count": 17,
   "id": "172b156b",
   "metadata": {},
   "outputs": [],
   "source": [
    "df['clean_comment'].dropna(inplace=True)"
   ]
  },
  {
   "cell_type": "code",
   "execution_count": 18,
   "id": "4bb9671d",
   "metadata": {},
   "outputs": [
    {
     "data": {
      "text/plain": [
       "clean_comment    0\n",
       "category         0\n",
       "dtype: int64"
      ]
     },
     "execution_count": 18,
     "metadata": {},
     "output_type": "execute_result"
    }
   ],
   "source": [
    "df.isna().sum()"
   ]
  },
  {
   "cell_type": "code",
   "execution_count": 9,
   "id": "c2f8219e",
   "metadata": {},
   "outputs": [
    {
     "data": {
      "text/html": [
       "<div>\n",
       "<style scoped>\n",
       "    .dataframe tbody tr th:only-of-type {\n",
       "        vertical-align: middle;\n",
       "    }\n",
       "\n",
       "    .dataframe tbody tr th {\n",
       "        vertical-align: top;\n",
       "    }\n",
       "\n",
       "    .dataframe thead th {\n",
       "        text-align: right;\n",
       "    }\n",
       "</style>\n",
       "<table border=\"1\" class=\"dataframe\">\n",
       "  <thead>\n",
       "    <tr style=\"text-align: right;\">\n",
       "      <th></th>\n",
       "      <th>clean_comment</th>\n",
       "      <th>category</th>\n",
       "    </tr>\n",
       "  </thead>\n",
       "  <tbody>\n",
       "    <tr>\n",
       "      <th>0</th>\n",
       "      <td>family mormon never tried explain still stare ...</td>\n",
       "      <td>1</td>\n",
       "    </tr>\n",
       "    <tr>\n",
       "      <th>1</th>\n",
       "      <td>buddhism much lot compatible christianity espe...</td>\n",
       "      <td>1</td>\n",
       "    </tr>\n",
       "    <tr>\n",
       "      <th>2</th>\n",
       "      <td>seriously say thing first get complex explain ...</td>\n",
       "      <td>-1</td>\n",
       "    </tr>\n",
       "    <tr>\n",
       "      <th>3</th>\n",
       "      <td>learned want teach different focus goal not wr...</td>\n",
       "      <td>0</td>\n",
       "    </tr>\n",
       "    <tr>\n",
       "      <th>4</th>\n",
       "      <td>benefit may want read living buddha living chr...</td>\n",
       "      <td>1</td>\n",
       "    </tr>\n",
       "  </tbody>\n",
       "</table>\n",
       "</div>"
      ],
      "text/plain": [
       "                                       clean_comment  category\n",
       "0  family mormon never tried explain still stare ...         1\n",
       "1  buddhism much lot compatible christianity espe...         1\n",
       "2  seriously say thing first get complex explain ...        -1\n",
       "3  learned want teach different focus goal not wr...         0\n",
       "4  benefit may want read living buddha living chr...         1"
      ]
     },
     "execution_count": 9,
     "metadata": {},
     "output_type": "execute_result"
    }
   ],
   "source": [
    "df.head()"
   ]
  },
  {
   "cell_type": "code",
   "execution_count": 10,
   "id": "1c8013d1",
   "metadata": {},
   "outputs": [],
   "source": [
    "import mlflow\n",
    "import mlflow.sklearn\n",
    "from sklearn.ensemble import RandomForestClassifier\n",
    "from sklearn.feature_extraction.text import CountVectorizer\n",
    "from sklearn.model_selection import train_test_split, cross_val_predict, StratifiedKFold\n",
    "from sklearn.metrics import accuracy_score, classification_report, confusion_matrix\n",
    "import matplotlib.pyplot as plt\n",
    "import seaborn as sns\n"
   ]
  },
  {
   "cell_type": "code",
   "execution_count": 11,
   "id": "4b64cfb2",
   "metadata": {},
   "outputs": [],
   "source": [
    "# Let us perform train test split\n",
    "X = df['clean_comment']\n",
    "y = df['category']\n",
    "X_train, X_test, y_train, y_test = train_test_split(X, \n",
    "                                                    y,\n",
    "                                                    random_state = 42,\n",
    "                                                    stratify = y ) # To ensure balanced splits\n"
   ]
  },
  {
   "cell_type": "code",
   "execution_count": 12,
   "id": "16e538b7",
   "metadata": {},
   "outputs": [],
   "source": [
    "# Step 1: Vectorize the comments using bag of words CountVectorizer\n",
    "vectorizer = CountVectorizer(max_features = 10000)\n",
    "X_train = vectorizer.fit_transform(X_train)\n",
    "X_test = vectorizer.transform(X_test)\n"
   ]
  },
  {
   "cell_type": "code",
   "execution_count": 13,
   "id": "ffbf2405",
   "metadata": {},
   "outputs": [],
   "source": [
    "# Set Random Forest Parameters\n",
    "n_estimators = 200\n",
    "max_depth = 15\n",
    "\n",
    "# Train the model\n",
    "model = RandomForestClassifier(n_estimators = n_estimators,\n",
    "                                max_depth = max_depth,\n",
    "                                random_state = 42)\n",
    "model.fit(X_train, y_train)\n",
    "y_pred_test = model.predict(X_test)\n",
    "y_pred_train = model.predict(X_train)"
   ]
  },
  {
   "cell_type": "code",
   "execution_count": 14,
   "id": "4eda05c8",
   "metadata": {},
   "outputs": [],
   "source": [
    "accuracy_test = accuracy_score(y_test, y_pred_test)\n",
    "accuracy_train = accuracy_score(y_train, y_pred_train)"
   ]
  },
  {
   "cell_type": "code",
   "execution_count": 15,
   "id": "b195efd9",
   "metadata": {},
   "outputs": [],
   "source": [
    "classification_rep_test = classification_report(y_test, y_pred_test, output_dict = True)"
   ]
  },
  {
   "cell_type": "code",
   "execution_count": 16,
   "id": "8a823916",
   "metadata": {},
   "outputs": [
    {
     "data": {
      "text/plain": [
       "{'-1': {'precision': 0.9411764705882353,\n",
       "  'recall': 0.007755695588948134,\n",
       "  'f1-score': 0.015384615384615385,\n",
       "  'support': 2063.0},\n",
       " '0': {'precision': 0.6810433884297521,\n",
       "  'recall': 0.8258690886313812,\n",
       "  'f1-score': 0.7464968152866241,\n",
       "  'support': 3193.0},\n",
       " '1': {'precision': 0.6303201506591337,\n",
       "  'recall': 0.8488460563023079,\n",
       "  'f1-score': 0.7234410461471955,\n",
       "  'support': 3943.0},\n",
       " 'accuracy': 0.6522448092183933,\n",
       " 'macro avg': {'precision': 0.7508466698923737,\n",
       "  'recall': 0.5608236135075457,\n",
       "  'f1-score': 0.49510749227281164,\n",
       "  'support': 9199.0},\n",
       " 'weighted avg': {'precision': 0.7176400643688109,\n",
       "  'recall': 0.6522448092183933,\n",
       "  'f1-score': 0.5726525532891666,\n",
       "  'support': 9199.0}}"
      ]
     },
     "execution_count": 16,
     "metadata": {},
     "output_type": "execute_result"
    }
   ],
   "source": [
    "classification_rep_test"
   ]
  },
  {
   "cell_type": "code",
   "execution_count": 17,
   "id": "ea34b29a",
   "metadata": {},
   "outputs": [
    {
     "data": {
      "image/png": "[encoded data removed]",
      "text/plain": [
       "<Figure size 800x600 with 2 Axes>"
      ]
     },
     "metadata": {},
     "output_type": "display_data"
    }
   ],
   "source": [
    "conf_matrix = confusion_matrix(y_test, y_pred_test)\n",
    "plt.figure(figsize = (8, 6))\n",
    "sns.heatmap(conf_matrix, annot = True, fmt = \"d\", cmap = \"Blues\")\n",
    "plt.xlabel(\"Predicted\")\n",
    "plt.ylabel(\"Actual\")\n",
    "plt.title(\"Confusion Matrix\")\n",
    "plt.savefig(\"confusion_matrix.png\")"
   ]
  },
  {
   "cell_type": "code",
   "execution_count": null,
   "id": "c53b4756",
   "metadata": {},
   "outputs": [],
   "source": []
  },
  {
   "cell_type": "code",
   "execution_count": 22,
   "id": "16f7922d",
   "metadata": {},
   "outputs": [
    {
     "data": {
      "text/plain": [
       "clean_comment     \n",
       "category         0\n",
       "Name: 288, dtype: object"
      ]
     },
     "execution_count": 22,
     "metadata": {},
     "output_type": "execute_result"
    }
   ],
   "source": [
    "df.iloc[287,:]"
   ]
  },
  {
   "cell_type": "code",
   "execution_count": 23,
   "id": "ae27aae1",
   "metadata": {},
   "outputs": [],
   "source": [
    "df = df[df['clean_comment'].str.strip() != '']  # Remove empty strings\n",
    "df = df.dropna(subset=['clean_comment']) "
   ]
  },
  {
   "cell_type": "code",
   "execution_count": 24,
   "id": "6300cc2e",
   "metadata": {},
   "outputs": [],
   "source": [
    "# Save the data as csv file\n",
    "df.to_csv(\"cleaned_dataset.csv\", index = False)"
   ]
  },
  {
   "cell_type": "code",
   "execution_count": null,
   "id": "49a166f9",
   "metadata": {},
   "outputs": [],
   "source": []
  },
  {
   "cell_type": "code",
   "execution_count": 19,
   "id": "fc57e5c5",
   "metadata": {},
   "outputs": [
    {
     "name": "stdout",
     "output_type": "stream",
     "text": [
      "0.6610495035152569\n"
     ]
    }
   ],
   "source": [
    "print(accuracy_train)"
   ]
  },
  {
   "cell_type": "code",
   "execution_count": 20,
   "id": "323dc47e",
   "metadata": {},
   "outputs": [
    {
     "name": "stdout",
     "output_type": "stream",
     "text": [
      "0.6522448092183933\n"
     ]
    }
   ],
   "source": [
    "print(accuracy_test)"
   ]
  },
  {
   "cell_type": "code",
   "execution_count": 21,
   "id": "d7db0b45",
   "metadata": {},
   "outputs": [
    {
     "name": "stdout",
     "output_type": "stream",
     "text": [
      "              precision    recall  f1-score   support\n",
      "\n",
      "          -1       0.94      0.01      0.02      2063\n",
      "           0       0.68      0.83      0.75      3193\n",
      "           1       0.63      0.85      0.72      3943\n",
      "\n",
      "    accuracy                           0.65      9199\n",
      "   macro avg       0.75      0.56      0.50      9199\n",
      "weighted avg       0.72      0.65      0.57      9199\n",
      "\n"
     ]
    }
   ],
   "source": [
    "print(classification_report(y_test, y_pred_test,))"
   ]
  },
  {
   "cell_type": "code",
   "execution_count": 79,
   "id": "18079a38",
   "metadata": {},
   "outputs": [
    {
     "name": "stderr",
     "output_type": "stream",
     "text": [
      "2025/10/14 12:58:47 INFO mlflow.tracking.fluent: Experiment with name 'Exp1_Random Forest Baseline' does not exist. Creating a new experiment.\n"
     ]
    },
    {
     "data": {
      "text/plain": [
       "<Experiment: artifact_location='s3://sentiment-mlops-bucket-s3/366990793208141387', creation_time=1760407127883, experiment_id='366990793208141387', last_update_time=1760407127883, lifecycle_stage='active', name='Exp1_Random Forest Baseline', tags={}>"
      ]
     },
     "execution_count": 79,
     "metadata": {},
     "output_type": "execute_result"
    }
   ],
   "source": [
    "mlflow.set_experiment(\"Exp1_Random Forest Baseline\")"
   ]
  },
  {
   "cell_type": "code",
   "execution_count": null,
   "id": "7f9de082",
   "metadata": {},
   "outputs": [],
   "source": [
    "# Configure AWS Credentials"
   ]
  },
  {
   "cell_type": "code",
   "execution_count": null,
   "id": "92259279",
   "metadata": {},
   "outputs": [],
   "source": [
    "import os\n",
    "\n",
    "# Set AWS credentials as environment variables\n",
    "os.environ['AWS_ACCESS_KEY_ID'] = ''\n",
    "os.environ['AWS_SECRET_ACCESS_KEY'] = ''\n",
    "os.environ['AWS_DEFAULT_REGION'] = 'ap-southeast-2'\n",
    "\n",
    "# No need for !aws configure anymore"
   ]
  },
  {
   "cell_type": "code",
   "execution_count": 86,
   "id": "e0f15734",
   "metadata": {},
   "outputs": [
    {
     "name": "stderr",
     "output_type": "stream",
     "text": [
      "2025/10/14 13:07:01 WARNING mlflow.utils.environment: Failed to resolve installed pip version. ``pip`` will be added to conda.yaml environment spec without a version specifier.\n",
      "2025/10/14 13:07:01 WARNING mlflow.models.model: Model logged without a signature and input example. Please set `input_example` parameter when logging the model to auto infer the model signature.\n",
      "Registered model 'rm1' already exists. Creating a new version of this model...\n",
      "2025/10/14 13:07:05 INFO mlflow.store.model_registry.abstract_store: Waiting up to 300 seconds for model version to finish creation. Model name: rm1, version 2\n",
      "Created version '2' of model 'rm1'.\n"
     ]
    },
    {
     "name": "stdout",
     "output_type": "stream",
     "text": [
      "🏃 View run RandomForest_Baseline_TrainTestSplit at: http://ec2-13-211-98-126.ap-southeast-2.compute.amazonaws.com:5000/#/experiments/366990793208141387/runs/1c4ca9b62d024c699a692b8fc9ec9061\n",
      "🧪 View experiment at: http://ec2-13-211-98-126.ap-southeast-2.compute.amazonaws.com:5000/#/experiments/366990793208141387\n"
     ]
    }
   ],
   "source": [
    "with mlflow.start_run() as run:\n",
    "\n",
    "    # Log a description for run\n",
    "    mlflow.set_tag('mlflow.runName', \"RandomForest_Baseline_TrainTestSplit\")\n",
    "    mlflow.set_tag('experiment_type', 'baseline')\n",
    "    mlflow.set_tag('model_type', 'RandomForestClassifier')\n",
    "    mlflow.set_tag(\"description\", \"Baseline Randome Forest Classifier for sentiment analysis using Bag of Words and simple train test split\")\n",
    "    \n",
    "    \n",
    "    # Log Params for Vectorizer\n",
    "    mlflow.log_param(\"vectorizer_type\", \"Count Vectorizer\")\n",
    "    mlflow.log_param(\"vectorizer_max_features\", vectorizer.max_features)\n",
    "\n",
    "\n",
    "    # Log Random Forest Classifier parameters\n",
    "    mlflow.log_param('n_estimators', n_estimators)\n",
    "    mlflow.log_param(\"max_depth\", max_depth)\n",
    "\n",
    "    # Log metrics\n",
    "    mlflow.log_metric(\"Accuracy Score Train\", accuracy_train)\n",
    "    mlflow.log_metric(\"Accuracy Score Test\", accuracy_test)\n",
    "\n",
    "    for label, metrics in classification_rep_test.items():\n",
    "        if isinstance(metrics, dict):\n",
    "            for metric, value in metrics.items():\n",
    "                mlflow.log_metric(f'{label}_{metric}', value)\n",
    "    \n",
    "    # Save the confusion matrix plot\n",
    "    mlflow.log_artifact(\"confusion_matrix.png\")\n",
    "    \n",
    "    mlflow.sklearn.log_model(model, name = \"rm\", registered_model_name = 'rm1')\n",
    "\n",
    "    # Log the dataset to mlflow\n",
    "    mlflow.log_artifact(\"dataset.csv\")\n",
    "    \n",
    "\n"
   ]
  },
  {
   "cell_type": "code",
   "execution_count": 87,
   "id": "40133774",
   "metadata": {},
   "outputs": [],
   "source": [
    "# Search for the logged model by name\n",
    "from mlflow.tracking import MlflowClient\n",
    "\n",
    "client = MlflowClient()\n",
    "\n",
    "models = client.search_logged_models(filter_string = \"name = 'rm'\", experiment_ids = ['366990793208141387'])\n",
    "model_id = models[0].model_id"
   ]
  },
  {
   "cell_type": "code",
   "execution_count": 88,
   "id": "798f5a30",
   "metadata": {},
   "outputs": [
    {
     "data": {
      "text/plain": [
       "[LoggedModel(artifact_location='s3://sentiment-mlops-bucket-s3/366990793208141387/models/m-76c80baee6e8473d8d801293d2ec63c0/artifacts', creation_timestamp=1760407608718, experiment_id='366990793208141387', last_updated_timestamp=1760407625634, model_id='m-76c80baee6e8473d8d801293d2ec63c0', model_type='', model_uri='models:/m-76c80baee6e8473d8d801293d2ec63c0', name='rm', source_run_id='1c4ca9b62d024c699a692b8fc9ec9061', status=<LoggedModelStatus.READY: 'READY'>, status_message=''),\n",
       " LoggedModel(artifact_location='s3://sentiment-mlops-bucket-s3/366990793208141387/models/m-67275219f5a04393ab3dccb088b4496f/artifacts', creation_timestamp=1760407146987, experiment_id='366990793208141387', last_updated_timestamp=1760407208911, model_id='m-67275219f5a04393ab3dccb088b4496f', model_type='', model_uri='models:/m-67275219f5a04393ab3dccb088b4496f', name='rm', source_run_id='4b6795c480b74a03a71431eae6cae38d', status=<LoggedModelStatus.READY: 'READY'>, status_message='')]"
      ]
     },
     "execution_count": 88,
     "metadata": {},
     "output_type": "execute_result"
    }
   ],
   "source": [
    "models"
   ]
  },
  {
   "cell_type": "code",
   "execution_count": 89,
   "id": "ab864c50",
   "metadata": {},
   "outputs": [
    {
     "name": "stdout",
     "output_type": "stream",
     "text": [
      "rm1\n",
      "--------\n"
     ]
    }
   ],
   "source": [
    "for rm in client.search_registered_models():\n",
    "    print(rm.name)\n",
    "\n",
    "print('--------')\n",
    "\n",
    "# Search all registered model versions and match by model_id\n",
    "for mv in client.search_model_versions():\n",
    "    if getattr(mv, \"model_id\", None) == model_id:\n",
    "        print(f\"Registered model name: (mv.name), version: {mv.version}\")"
   ]
  },
  {
   "cell_type": "code",
   "execution_count": 92,
   "id": "77ed692d",
   "metadata": {},
   "outputs": [
    {
     "name": "stdout",
     "output_type": "stream",
     "text": [
      "Model source run ID: <ModelVersion: aliases=[], creation_timestamp=1760407625758, current_stage='None', deployment_job_state=<ModelVersionDeploymentJobState: current_task_name='', job_id='', job_state='DEPLOYMENT_JOB_CONNECTION_STATE_UNSPECIFIED', run_id='', run_state='DEPLOYMENT_JOB_RUN_STATE_UNSPECIFIED'>, description='', last_updated_timestamp=1760407625758, metrics=None, model_id=None, name='rm1', params=None, run_id='1c4ca9b62d024c699a692b8fc9ec9061', run_link='', source='models:/m-76c80baee6e8473d8d801293d2ec63c0', status='READY', status_message=None, tags={}, user_id='', version='2'>\n",
      "S3 URI: s3://sentiment-mlops-bucket-s3/366990793208141387/models/m-76c80baee6e8473d8d801293d2ec63c0/artifacts\n"
     ]
    }
   ],
   "source": [
    "# Get model info\n",
    "model_info = client.get_model_version(\"rm1\", 2)\n",
    "print(\"Model source run ID:\", model_info)\n",
    "\n",
    "# Get S3 URI for the model\n",
    "s3_uri = client.get_model_version_download_uri(model_info.name, model_info.version)\n",
    "print(\"S3 URI:\", s3_uri)"
   ]
  },
  {
   "cell_type": "code",
   "execution_count": null,
   "id": "ae78b50e",
   "metadata": {},
   "outputs": [],
   "source": []
  },
  {
   "cell_type": "code",
   "execution_count": null,
   "id": "78953273",
   "metadata": {},
   "outputs": [],
   "source": []
  }
 ],
 "metadata": {
  "kernelspec": {
   "display_name": "mlops_sentiment_analysis",
   "language": "python",
   "name": "python3"
  },
  "language_info": {
   "codemirror_mode": {
    "name": "ipython",
    "version": 3
   },
   "file_extension": ".py",
   "mimetype": "text/x-python",
   "name": "python",
   "nbconvert_exporter": "python",
   "pygments_lexer": "ipython3",
   "version": "3.12.2"
  }
 },
 "nbformat": 4,
 "nbformat_minor": 5
}
