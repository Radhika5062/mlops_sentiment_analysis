{
 "cells": [
  {
   "cell_type": "code",
   "execution_count": 1,
   "id": "a23db47d",
   "metadata": {},
   "outputs": [],
   "source": [
    "import os"
   ]
  },
  {
   "cell_type": "code",
   "execution_count": null,
   "id": "eb10b1b4",
   "metadata": {},
   "outputs": [],
   "source": [
    "os.environ['AWS_ACCESS_KEY_ID'] = ''\n",
    "os.environ['AWS_SECRET_ACCESS_KEY'] = ''\n",
    "os.environ['AWS_DEFAULT_REGION'] = 'ap-southeast-2'"
   ]
  },
  {
   "cell_type": "code",
   "execution_count": null,
   "id": "5c872f96",
   "metadata": {},
   "outputs": [],
   "source": []
  },
  {
   "cell_type": "code",
   "execution_count": 3,
   "id": "1aa35b76",
   "metadata": {},
   "outputs": [
    {
     "data": {
      "text/plain": [
       "<Experiment: artifact_location='s3://sentiment-mlops-bucket-s3/269730053283748429', creation_time=1760669506403, experiment_id='269730053283748429', last_update_time=1760669506403, lifecycle_stage='active', name='Exp-2_BOW vs TFIDG', tags={}>"
      ]
     },
     "execution_count": 3,
     "metadata": {},
     "output_type": "execute_result"
    }
   ],
   "source": [
    "import mlflow\n",
    "mlflow.set_tracking_uri(\"http://ec2-13-211-98-126.ap-southeast-2.compute.amazonaws.com:5000/\")\n",
    "mlflow.set_experiment(\"Exp-2_BOW vs TFIDG\")"
   ]
  },
  {
   "cell_type": "code",
   "execution_count": 4,
   "id": "f41dc2e8",
   "metadata": {},
   "outputs": [],
   "source": [
    "from sklearn.feature_extraction.text import CountVectorizer, TfidfVectorizer\n",
    "from sklearn.ensemble import RandomForestClassifier\n",
    "from sklearn.model_selection import train_test_split\n",
    "from sklearn.metrics import accuracy_score, classification_report, confusion_matrix\n",
    "import mlflow.sklearn\n",
    "import pandas as pd\n",
    "import matplotlib.pyplot as plt\n",
    "import seaborn as sns"
   ]
  },
  {
   "cell_type": "code",
   "execution_count": 5,
   "id": "688bd91b",
   "metadata": {},
   "outputs": [],
   "source": [
    "df = pd.read_csv('cleaned_dataset.csv')"
   ]
  },
  {
   "cell_type": "code",
   "execution_count": 6,
   "id": "174bb343",
   "metadata": {},
   "outputs": [
    {
     "data": {
      "text/html": [
       "<div>\n",
       "<style scoped>\n",
       "    .dataframe tbody tr th:only-of-type {\n",
       "        vertical-align: middle;\n",
       "    }\n",
       "\n",
       "    .dataframe tbody tr th {\n",
       "        vertical-align: top;\n",
       "    }\n",
       "\n",
       "    .dataframe thead th {\n",
       "        text-align: right;\n",
       "    }\n",
       "</style>\n",
       "<table border=\"1\" class=\"dataframe\">\n",
       "  <thead>\n",
       "    <tr style=\"text-align: right;\">\n",
       "      <th></th>\n",
       "      <th>clean_comment</th>\n",
       "      <th>category</th>\n",
       "    </tr>\n",
       "  </thead>\n",
       "  <tbody>\n",
       "  </tbody>\n",
       "</table>\n",
       "</div>"
      ],
      "text/plain": [
       "Empty DataFrame\n",
       "Columns: [clean_comment, category]\n",
       "Index: []"
      ]
     },
     "execution_count": 6,
     "metadata": {},
     "output_type": "execute_result"
    }
   ],
   "source": [
    "df[df.isna().any(axis = 1)]"
   ]
  },
  {
   "cell_type": "code",
   "execution_count": 7,
   "id": "a50239f3",
   "metadata": {},
   "outputs": [
    {
     "data": {
      "text/plain": [
       "clean_comment    sonia gandhi acolyte amartya sen independent e...\n",
       "category                                                         0\n",
       "Name: 287, dtype: object"
      ]
     },
     "execution_count": 7,
     "metadata": {},
     "output_type": "execute_result"
    }
   ],
   "source": [
    "df.iloc[287,:]"
   ]
  },
  {
   "cell_type": "code",
   "execution_count": 12,
   "id": "dbe479b0",
   "metadata": {},
   "outputs": [
    {
     "name": "stderr",
     "output_type": "stream",
     "text": [
      "2025/10/23 14:26:24 WARNING mlflow.utils.environment: Failed to resolve installed pip version. ``pip`` will be added to conda.yaml environment spec without a version specifier.\n",
      "2025/10/23 14:26:24 WARNING mlflow.models.model: Model logged without a signature and input example. Please set `input_example` parameter when logging the model to auto infer the model signature.\n",
      "Successfully registered model 'reg_random_forest_model_BoW_(1, 3)'.\n",
      "2025/10/23 14:26:29 INFO mlflow.store.model_registry.abstract_store: Waiting up to 300 seconds for model version to finish creation. Model name: reg_random_forest_model_BoW_(1, 3), version 1\n",
      "Created version '1' of model 'reg_random_forest_model_BoW_(1, 3)'.\n"
     ]
    },
    {
     "name": "stdout",
     "output_type": "stream",
     "text": [
      "🏃 View run BoW_(1, 3)_RandomForest at: http://ec2-13-211-98-126.ap-southeast-2.compute.amazonaws.com:5000/#/experiments/269730053283748429/runs/c9d5d66dc6f94c1b85633685d7970037\n",
      "🧪 View experiment at: http://ec2-13-211-98-126.ap-southeast-2.compute.amazonaws.com:5000/#/experiments/269730053283748429\n"
     ]
    },
    {
     "name": "stderr",
     "output_type": "stream",
     "text": [
      "2025/10/23 14:28:26 WARNING mlflow.utils.environment: Failed to resolve installed pip version. ``pip`` will be added to conda.yaml environment spec without a version specifier.\n",
      "2025/10/23 14:28:26 WARNING mlflow.models.model: Model logged without a signature and input example. Please set `input_example` parameter when logging the model to auto infer the model signature.\n",
      "Successfully registered model 'reg_random_forest_model_TF-IDF_(1, 3)'.\n",
      "2025/10/23 14:28:33 INFO mlflow.store.model_registry.abstract_store: Waiting up to 300 seconds for model version to finish creation. Model name: reg_random_forest_model_TF-IDF_(1, 3), version 1\n",
      "Created version '1' of model 'reg_random_forest_model_TF-IDF_(1, 3)'.\n"
     ]
    },
    {
     "name": "stdout",
     "output_type": "stream",
     "text": [
      "🏃 View run TF-IDF_(1, 3)_RandomForest at: http://ec2-13-211-98-126.ap-southeast-2.compute.amazonaws.com:5000/#/experiments/269730053283748429/runs/fe3f9c71fd9340619adcf181cecd9104\n",
      "🧪 View experiment at: http://ec2-13-211-98-126.ap-southeast-2.compute.amazonaws.com:5000/#/experiments/269730053283748429\n"
     ]
    }
   ],
   "source": [
    "def run_experiment( ngram_range, vectorizer_max_features, vectorizer_name):\n",
    "    if vectorizer_name == 'BoW':\n",
    "        vectorizer = CountVectorizer(ngram_range=ngram_range, \n",
    "                                     max_features= vectorizer_max_features)\n",
    "    else:\n",
    "        vectorizer = TfidfVectorizer(ngram_range=ngram_range, \n",
    "                                     max_features=vectorizer_max_features)\n",
    "\n",
    "    X_train, X_test, y_train, y_test = train_test_split(df['clean_comment'],\n",
    "                                                        df['category'], \n",
    "                                                        test_size=0.2, \n",
    "                                                        random_state=42,\n",
    "                                                        stratify=df['category'])\n",
    "    \n",
    "    X_train = vectorizer.fit_transform(X_train)\n",
    "    X_test = vectorizer.transform(X_test)\n",
    "\n",
    "    with mlflow.start_run() as run:\n",
    "        mlflow.set_tag(\"mlflow.runName\", f\"{vectorizer_name}_{ngram_range}_RandomForest\")\n",
    "        mlflow.set_tag(\"experiment_type\", \"feature_engineering\")\n",
    "        mlflow.set_tag(\"model_type\", \"RandomForestClassifier\")\n",
    "\n",
    "        mlflow.set_tag(\"description\", f\"Random Forest with {vectorizer_name}, ngram_range = {ngram_range}, max_features = {vectorizer_max_features}\")\n",
    "\n",
    "        # Log vectorizer parameters\n",
    "        \n",
    "        mlflow.log_param(\"ngram_range\", ngram_range)\n",
    "        mlflow.log_param(\"vectorizer_max_features\", vectorizer_max_features)\n",
    "        \n",
    "        # Set model parameters\n",
    "        n_estimators = 200\n",
    "        max_depth = 15\n",
    "        \n",
    "        # Log model parameters\n",
    "        mlflow.log_param(\"n_estimators\", n_estimators)\n",
    "        mlflow.log_param(\"max_depth\", max_depth)\n",
    "\n",
    "        model = RandomForestClassifier(n_estimators=n_estimators,\n",
    "                                       max_depth= max_depth,\n",
    "                                       random_state= 42)\n",
    "        model.fit(X_train, y_train)\n",
    "\n",
    "        y_pred_test = model.predict(X_test)\n",
    "        y_pred_train = model.predict(X_train)\n",
    "\n",
    "        accuracy_test = accuracy_score(y_pred_test, y_test)\n",
    "        accuracy_train = accuracy_score(y_pred_train, y_train)\n",
    "\n",
    "        # Log Accuracy\n",
    "        mlflow.log_metric(\"accuracy_test\", accuracy_test)\n",
    "        mlflow.log_metric(\"accuracy_train\", accuracy_train)\n",
    "\n",
    "        # Log classfication report\n",
    "        classification_rep = classification_report(y_test, y_pred_test, output_dict=True)\n",
    "        for label, metrics in classification_rep.items():\n",
    "            if isinstance(metrics, dict):\n",
    "                for metric, value in metrics.items():\n",
    "                    mlflow.log_metric(f\"{label}_{metric}\", value)\n",
    "        \n",
    "        # Log confusion metrix\n",
    "        conf_matrix = confusion_matrix(y_test, y_pred_test)\n",
    "        plt.figure(figsize=(8, 6))\n",
    "        sns.heatmap(conf_matrix, annot = True, fmt = \"d\", cmap = \"Blues\")\n",
    "        plt.xlabel(\"Predicted\")\n",
    "        plt.ylabel(\"Actual\")\n",
    "        plt.title(f\"Confusion matrix : {vectorizer_name}, {ngram_range}\")\n",
    "        plt.savefig(f\"confusion_matrix_{vectorizer_name}_{ngram_range}.png\")\n",
    "        mlflow.log_artifact(f\"confusion_matrix_{vectorizer_name}_{ngram_range}.png\")\n",
    "        plt.close()\n",
    "\n",
    "        mlflow.sklearn.log_model(model, name = f\"random_forest_model_{vectorizer_name}_{ngram_range}\", registered_model_name = f\"reg_random_forest_model_{vectorizer_name}_{ngram_range}\")\n",
    "\n",
    "\n",
    "# Run the experiments for BoW and TFIDF with different ngram values\n",
    "# ngram_ranges = [(1, 1), (1, 2), (1, 3)]\n",
    "ngram_ranges = [(1,3)]\n",
    "max_features = 5000\n",
    "\n",
    "for ngram_range in ngram_ranges:\n",
    "    run_experiment(ngram_range, max_features, \"BoW\")\n",
    "\n",
    "    run_experiment(ngram_range, max_features, \"TF-IDF\")\n",
    "\n"
   ]
  },
  {
   "cell_type": "code",
   "execution_count": 10,
   "id": "1ca24d7a",
   "metadata": {},
   "outputs": [
    {
     "data": {
      "text/plain": [
       "'3.4.0'"
      ]
     },
     "execution_count": 10,
     "metadata": {},
     "output_type": "execute_result"
    }
   ],
   "source": [
    "mlflow.__version__"
   ]
  },
  {
   "cell_type": "code",
   "execution_count": null,
   "id": "e4c041d8",
   "metadata": {},
   "outputs": [],
   "source": [
    "# Choosing tfidf(1, 2) as the vectorizer of choice"
   ]
  },
  {
   "cell_type": "code",
   "execution_count": null,
   "id": "64360116",
   "metadata": {},
   "outputs": [],
   "source": []
  }
 ],
 "metadata": {
  "kernelspec": {
   "display_name": "mlops_sentiment_analysis",
   "language": "python",
   "name": "python3"
  },
  "language_info": {
   "codemirror_mode": {
    "name": "ipython",
    "version": 3
   },
   "file_extension": ".py",
   "mimetype": "text/x-python",
   "name": "python",
   "nbconvert_exporter": "python",
   "pygments_lexer": "ipython3",
   "version": "3.12.2"
  }
 },
 "nbformat": 4,
 "nbformat_minor": 5
}
