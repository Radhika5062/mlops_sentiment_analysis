{
 "cells": [
  {
   "cell_type": "code",
   "execution_count": 1,
   "id": "cca5379f",
   "metadata": {},
   "outputs": [],
   "source": [
    "# This experiment is to decide the max number of features to be used in TFIDf (1,3)"
   ]
  },
  {
   "cell_type": "code",
   "execution_count": null,
   "id": "f6816d91",
   "metadata": {},
   "outputs": [],
   "source": [
    "import os\n",
    "os.environ['AWS_ACCESS_KEY_ID'] = ''\n",
    "os.environ['AWS_SECRET_ACCESS_KEY'] = ''\n",
    "os.environ['AWS_DEFAULT_REGION'] = 'ap-southeast-2'"
   ]
  },
  {
   "cell_type": "code",
   "execution_count": 16,
   "id": "ccdd23e7",
   "metadata": {},
   "outputs": [
    {
     "data": {
      "text/plain": [
       "<Experiment: artifact_location='s3://sentiment-mlops-bucket-s3/268664869246559694', creation_time=1761258145848, experiment_id='268664869246559694', last_update_time=1761258145848, lifecycle_stage='active', name='Exp3_TFIDF max feature selection', tags={}>"
      ]
     },
     "execution_count": 16,
     "metadata": {},
     "output_type": "execute_result"
    }
   ],
   "source": [
    "import mlflow\n",
    "mlflow.set_tracking_uri(\"http://ec2-13-211-98-126.ap-southeast-2.compute.amazonaws.com:5000/\")\n",
    "mlflow.set_experiment(\"Exp3_TFIDF max feature selection\")"
   ]
  },
  {
   "cell_type": "code",
   "execution_count": 17,
   "id": "164d20a2",
   "metadata": {},
   "outputs": [],
   "source": [
    "from sklearn.feature_extraction.text import TfidfVectorizer\n",
    "from sklearn.ensemble import RandomForestClassifier\n",
    "from sklearn.model_selection import train_test_split\n",
    "from sklearn.metrics import accuracy_score, precision_score, recall_score, confusion_matrix, classification_report\n",
    "import mlflow.sklearn\n",
    "import matplotlib.pyplot as plt\n",
    "import pandas as pd\n",
    "import seaborn as sns\n",
    "import matplotlib.pyplot as plt"
   ]
  },
  {
   "cell_type": "code",
   "execution_count": 18,
   "id": "30d1f2c2",
   "metadata": {},
   "outputs": [],
   "source": [
    "df = pd.read_csv('cleaned_dataset.csv')"
   ]
  },
  {
   "cell_type": "code",
   "execution_count": 19,
   "id": "0f6d1a68",
   "metadata": {},
   "outputs": [
    {
     "data": {
      "text/html": [
       "<div>\n",
       "<style scoped>\n",
       "    .dataframe tbody tr th:only-of-type {\n",
       "        vertical-align: middle;\n",
       "    }\n",
       "\n",
       "    .dataframe tbody tr th {\n",
       "        vertical-align: top;\n",
       "    }\n",
       "\n",
       "    .dataframe thead th {\n",
       "        text-align: right;\n",
       "    }\n",
       "</style>\n",
       "<table border=\"1\" class=\"dataframe\">\n",
       "  <thead>\n",
       "    <tr style=\"text-align: right;\">\n",
       "      <th></th>\n",
       "      <th>clean_comment</th>\n",
       "      <th>category</th>\n",
       "    </tr>\n",
       "  </thead>\n",
       "  <tbody>\n",
       "    <tr>\n",
       "      <th>0</th>\n",
       "      <td>family mormon never tried explain still stare ...</td>\n",
       "      <td>1</td>\n",
       "    </tr>\n",
       "    <tr>\n",
       "      <th>1</th>\n",
       "      <td>buddhism much lot compatible christianity espe...</td>\n",
       "      <td>1</td>\n",
       "    </tr>\n",
       "  </tbody>\n",
       "</table>\n",
       "</div>"
      ],
      "text/plain": [
       "                                       clean_comment  category\n",
       "0  family mormon never tried explain still stare ...         1\n",
       "1  buddhism much lot compatible christianity espe...         1"
      ]
     },
     "execution_count": 19,
     "metadata": {},
     "output_type": "execute_result"
    }
   ],
   "source": [
    "df.head(2)"
   ]
  },
  {
   "cell_type": "code",
   "execution_count": 20,
   "id": "67dcbb2d",
   "metadata": {},
   "outputs": [
    {
     "data": {
      "text/plain": [
       "(36661, 2)"
      ]
     },
     "execution_count": 20,
     "metadata": {},
     "output_type": "execute_result"
    }
   ],
   "source": [
    "df.shape"
   ]
  },
  {
   "cell_type": "code",
   "execution_count": 21,
   "id": "664e3e17",
   "metadata": {},
   "outputs": [
    {
     "name": "stderr",
     "output_type": "stream",
     "text": [
      "2025/10/24 09:49:37 WARNING mlflow.utils.environment: Failed to resolve installed pip version. ``pip`` will be added to conda.yaml environment spec without a version specifier.\n",
      "2025/10/24 09:49:37 WARNING mlflow.models.model: Model logged without a signature and input example. Please set `input_example` parameter when logging the model to auto infer the model signature.\n",
      "Successfully registered model 'reg_random_forest_classifier_tfidf_trigrams_1000'.\n",
      "2025/10/24 09:49:48 INFO mlflow.store.model_registry.abstract_store: Waiting up to 300 seconds for model version to finish creation. Model name: reg_random_forest_classifier_tfidf_trigrams_1000, version 1\n",
      "Created version '1' of model 'reg_random_forest_classifier_tfidf_trigrams_1000'.\n"
     ]
    },
    {
     "name": "stdout",
     "output_type": "stream",
     "text": [
      "🏃 View run TFIDF_1_3_max_features_1000 at: http://ec2-13-211-98-126.ap-southeast-2.compute.amazonaws.com:5000/#/experiments/268664869246559694/runs/b90c71ec884d43f5ac2c6ca0ad05e6ac\n",
      "🧪 View experiment at: http://ec2-13-211-98-126.ap-southeast-2.compute.amazonaws.com:5000/#/experiments/268664869246559694\n"
     ]
    },
    {
     "name": "stderr",
     "output_type": "stream",
     "text": [
      "2025/10/24 09:51:16 WARNING mlflow.utils.environment: Failed to resolve installed pip version. ``pip`` will be added to conda.yaml environment spec without a version specifier.\n",
      "2025/10/24 09:51:16 WARNING mlflow.models.model: Model logged without a signature and input example. Please set `input_example` parameter when logging the model to auto infer the model signature.\n",
      "Successfully registered model 'reg_random_forest_classifier_tfidf_trigrams_2000'.\n",
      "2025/10/24 09:51:20 INFO mlflow.store.model_registry.abstract_store: Waiting up to 300 seconds for model version to finish creation. Model name: reg_random_forest_classifier_tfidf_trigrams_2000, version 1\n",
      "Created version '1' of model 'reg_random_forest_classifier_tfidf_trigrams_2000'.\n"
     ]
    },
    {
     "name": "stdout",
     "output_type": "stream",
     "text": [
      "🏃 View run TFIDF_1_3_max_features_2000 at: http://ec2-13-211-98-126.ap-southeast-2.compute.amazonaws.com:5000/#/experiments/268664869246559694/runs/677ad86f2eb94e01900b8ce28cd5e7d8\n",
      "🧪 View experiment at: http://ec2-13-211-98-126.ap-southeast-2.compute.amazonaws.com:5000/#/experiments/268664869246559694\n"
     ]
    },
    {
     "name": "stderr",
     "output_type": "stream",
     "text": [
      "2025/10/24 09:51:40 WARNING mlflow.utils.environment: Failed to resolve installed pip version. ``pip`` will be added to conda.yaml environment spec without a version specifier.\n",
      "2025/10/24 09:51:40 WARNING mlflow.models.model: Model logged without a signature and input example. Please set `input_example` parameter when logging the model to auto infer the model signature.\n",
      "Successfully registered model 'reg_random_forest_classifier_tfidf_trigrams_5000'.\n",
      "2025/10/24 09:51:43 INFO mlflow.store.model_registry.abstract_store: Waiting up to 300 seconds for model version to finish creation. Model name: reg_random_forest_classifier_tfidf_trigrams_5000, version 1\n",
      "Created version '1' of model 'reg_random_forest_classifier_tfidf_trigrams_5000'.\n"
     ]
    },
    {
     "name": "stdout",
     "output_type": "stream",
     "text": [
      "🏃 View run TFIDF_1_3_max_features_5000 at: http://ec2-13-211-98-126.ap-southeast-2.compute.amazonaws.com:5000/#/experiments/268664869246559694/runs/ac0e48ce57a844dea6f50310f9718dc3\n",
      "🧪 View experiment at: http://ec2-13-211-98-126.ap-southeast-2.compute.amazonaws.com:5000/#/experiments/268664869246559694\n"
     ]
    },
    {
     "name": "stderr",
     "output_type": "stream",
     "text": [
      "2025/10/24 09:52:01 WARNING mlflow.utils.environment: Failed to resolve installed pip version. ``pip`` will be added to conda.yaml environment spec without a version specifier.\n",
      "2025/10/24 09:52:01 WARNING mlflow.models.model: Model logged without a signature and input example. Please set `input_example` parameter when logging the model to auto infer the model signature.\n",
      "Successfully registered model 'reg_random_forest_classifier_tfidf_trigrams_10000'.\n",
      "2025/10/24 09:52:04 INFO mlflow.store.model_registry.abstract_store: Waiting up to 300 seconds for model version to finish creation. Model name: reg_random_forest_classifier_tfidf_trigrams_10000, version 1\n",
      "Created version '1' of model 'reg_random_forest_classifier_tfidf_trigrams_10000'.\n"
     ]
    },
    {
     "name": "stdout",
     "output_type": "stream",
     "text": [
      "🏃 View run TFIDF_1_3_max_features_10000 at: http://ec2-13-211-98-126.ap-southeast-2.compute.amazonaws.com:5000/#/experiments/268664869246559694/runs/49147ef08c27452bb20790d468112172\n",
      "🧪 View experiment at: http://ec2-13-211-98-126.ap-southeast-2.compute.amazonaws.com:5000/#/experiments/268664869246559694\n"
     ]
    }
   ],
   "source": [
    "# Function to run the experiment\n",
    "def run_experiment_tfidf_max_features(max_features):\n",
    "    ngram_range = (1, 2) # Found from experiment 2\n",
    "\n",
    "    vectorizer = TfidfVectorizer(ngram_range = ngram_range, max_features = max_features)\n",
    "\n",
    "    X_train, X_test, y_train, y_test = train_test_split(df['clean_comment'], \n",
    "                                                        df['category'], \n",
    "                                                        test_size = 0.2, \n",
    "                                                        random_state = 42,\n",
    "                                                        stratify = df['category']\n",
    "                                    )\n",
    "    \n",
    "    # Convert the clean_comment column into a vector so we can pass it to the model\n",
    "    X_train = vectorizer.fit_transform(X_train)\n",
    "    X_test = vectorizer.transform(X_test)\n",
    "\n",
    "    with mlflow.start_run() as run:\n",
    "        mlflow.set_tag(\"mlflow.runName\", f\"TFIDF_1_3_max_features_{max_features}\")\n",
    "        mlflow.set_tag(\"experiment_type\", \"feature_engineering\")\n",
    "        mlflow.set_tag(\"model_type\", \"RandomForestClassifier\")\n",
    "\n",
    "        mlflow.set_tag(\"description\", f\"Random Forest classifier with TFIDF trigrams 1, 3 and max features = {max_features}\")\n",
    "\n",
    "        # Log vectorizer parameters\n",
    "        mlflow.log_param(\"vectorizer_type\", \"TF-IDF\")\n",
    "        mlflow.log_param(\"ngram_range\", ngram_range)\n",
    "        mlflow.log_param(\"vectorizer_max_features\", max_features)\n",
    "        \n",
    "        n_estimators = 100\n",
    "        max_depth = 15\n",
    "        # Log Random Forest Parameters\n",
    "        mlflow.log_param(\"n_estimators\", n_estimators)\n",
    "        mlflow.log_param(\"max_depth\", max_depth)\n",
    "\n",
    "        # Initialize and train random forest model\n",
    "        model = RandomForestClassifier(n_estimators = n_estimators, max_depth= max_depth )\n",
    "        model.fit(X_train, y_train)\n",
    "\n",
    "        y_pred_test = model.predict(X_test)\n",
    "        y_pred_train = model.predict(X_train)\n",
    "\n",
    "        accuracy_test = accuracy_score(y_test, y_pred_test)\n",
    "        accuracy_train = accuracy_score(y_train, y_pred_train)\n",
    "\n",
    "        # Log accuracy\n",
    "        mlflow.log_metric(\"accuracy_test\", accuracy_test)\n",
    "        mlflow.log_metric(\"accuracy_train\", accuracy_train)\n",
    "\n",
    "        # Log classification report\n",
    "        classification_rep = classification_report(y_test, y_pred_test, output_dict=True)\n",
    "        for label, metrics in classification_rep.items():\n",
    "            if isinstance(metrics, dict):\n",
    "                for metric, value in metrics.items():\n",
    "                    mlflow.log_metric(f\"{label}_{metric}\", value)\n",
    "        \n",
    "        # Log Confusion matrix\n",
    "        conf_matrix = confusion_matrix(y_test, y_pred_test)\n",
    "        plt.figure(figsize=(8, 6))\n",
    "        sns.heatmap(conf_matrix, annot = True, fmt = \"d\", cmap = 'Blues')\n",
    "        plt.xlabel(\"Predicted\")\n",
    "        plt.ylabel(\"Actual\")\n",
    "        plt.title(f\"Confusion matrix: TFIDF 1, 3, max_features = {max_features}\")\n",
    "        plt.savefig(f\"confusion_matrix.png\")\n",
    "        mlflow.log_artifact(\"confusion_matrix.png\")\n",
    "        plt.close()\n",
    "\n",
    "        # Log model\n",
    "        mlflow.sklearn.log_model(model, \n",
    "                                 name = f\"random_forest_classifier_tfidf_trigrams_{max_features}\",\n",
    "                                 registered_model_name=f\"reg_random_forest_classifier_tfidf_trigrams_{max_features}\")\n",
    "\n",
    "\n",
    "max_feature_values = [1000, 2000, 5000, 10000]\n",
    "\n",
    "for max_features in max_feature_values:\n",
    "    run_experiment_tfidf_max_features(max_features)\n",
    "\n"
   ]
  },
  {
   "cell_type": "code",
   "execution_count": null,
   "id": "498b1d2a",
   "metadata": {},
   "outputs": [],
   "source": [
    "# Chposing max features as 1000 from experiments"
   ]
  },
  {
   "cell_type": "code",
   "execution_count": null,
   "id": "697be96e",
   "metadata": {},
   "outputs": [],
   "source": []
  },
  {
   "cell_type": "code",
   "execution_count": null,
   "id": "4c9b375a",
   "metadata": {},
   "outputs": [],
   "source": []
  }
 ],
 "metadata": {
  "kernelspec": {
   "display_name": "mlops_sentiment_analysis",
   "language": "python",
   "name": "python3"
  },
  "language_info": {
   "codemirror_mode": {
    "name": "ipython",
    "version": 3
   },
   "file_extension": ".py",
   "mimetype": "text/x-python",
   "name": "python",
   "nbconvert_exporter": "python",
   "pygments_lexer": "ipython3",
   "version": "3.12.2"
  }
 },
 "nbformat": 4,
 "nbformat_minor": 5
}
