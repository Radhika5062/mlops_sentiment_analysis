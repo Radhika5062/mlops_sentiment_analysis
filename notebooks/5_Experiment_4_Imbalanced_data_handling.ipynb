{
 "cells": [
  {
   "cell_type": "code",
   "execution_count": null,
   "id": "94c43726",
   "metadata": {},
   "outputs": [],
   "source": [
    "import os\n",
    "\n",
    "os.environ['AWS_ACCESS_KEY_ID'] = \"\"\n",
    "os.environ['AWS_SECRET_ACCESS_KEY'] = \"\"\n",
    "os.environ['AWS_DEFAULT_REGION'] = \"ap-southeast-2\""
   ]
  },
  {
   "cell_type": "code",
   "execution_count": 2,
   "id": "ee63f4c6",
   "metadata": {},
   "outputs": [
    {
     "data": {
      "text/plain": [
       "<Experiment: artifact_location='s3://sentiment-mlops-bucket-s3/929218055700625099', creation_time=1761457708565, experiment_id='929218055700625099', last_update_time=1761457708565, lifecycle_stage='active', name='Exp4_Handling_Imbalanced_Data', tags={}>"
      ]
     },
     "execution_count": 2,
     "metadata": {},
     "output_type": "execute_result"
    }
   ],
   "source": [
    "import mlflow\n",
    "import mlflow.sklearn\n",
    "mlflow.set_tracking_uri(\"http://ec2-13-211-98-126.ap-southeast-2.compute.amazonaws.com:5000/\")\n",
    "mlflow.set_experiment(\"Exp4_Handling_Imbalanced_Data\")"
   ]
  },
  {
   "cell_type": "code",
   "execution_count": 3,
   "id": "9e1f64d5",
   "metadata": {},
   "outputs": [],
   "source": [
    "import pandas as pd\n",
    "df = pd.read_csv('cleaned_dataset.csv')\n"
   ]
  },
  {
   "cell_type": "code",
   "execution_count": 4,
   "id": "988f6993",
   "metadata": {},
   "outputs": [
    {
     "data": {
      "text/html": [
       "<div>\n",
       "<style scoped>\n",
       "    .dataframe tbody tr th:only-of-type {\n",
       "        vertical-align: middle;\n",
       "    }\n",
       "\n",
       "    .dataframe tbody tr th {\n",
       "        vertical-align: top;\n",
       "    }\n",
       "\n",
       "    .dataframe thead th {\n",
       "        text-align: right;\n",
       "    }\n",
       "</style>\n",
       "<table border=\"1\" class=\"dataframe\">\n",
       "  <thead>\n",
       "    <tr style=\"text-align: right;\">\n",
       "      <th></th>\n",
       "      <th>clean_comment</th>\n",
       "      <th>category</th>\n",
       "    </tr>\n",
       "  </thead>\n",
       "  <tbody>\n",
       "    <tr>\n",
       "      <th>0</th>\n",
       "      <td>family mormon never tried explain still stare ...</td>\n",
       "      <td>1</td>\n",
       "    </tr>\n",
       "    <tr>\n",
       "      <th>1</th>\n",
       "      <td>buddhism much lot compatible christianity espe...</td>\n",
       "      <td>1</td>\n",
       "    </tr>\n",
       "    <tr>\n",
       "      <th>2</th>\n",
       "      <td>seriously say thing first get complex explain ...</td>\n",
       "      <td>-1</td>\n",
       "    </tr>\n",
       "    <tr>\n",
       "      <th>3</th>\n",
       "      <td>learned want teach different focus goal not wr...</td>\n",
       "      <td>0</td>\n",
       "    </tr>\n",
       "    <tr>\n",
       "      <th>4</th>\n",
       "      <td>benefit may want read living buddha living chr...</td>\n",
       "      <td>1</td>\n",
       "    </tr>\n",
       "  </tbody>\n",
       "</table>\n",
       "</div>"
      ],
      "text/plain": [
       "                                       clean_comment  category\n",
       "0  family mormon never tried explain still stare ...         1\n",
       "1  buddhism much lot compatible christianity espe...         1\n",
       "2  seriously say thing first get complex explain ...        -1\n",
       "3  learned want teach different focus goal not wr...         0\n",
       "4  benefit may want read living buddha living chr...         1"
      ]
     },
     "execution_count": 4,
     "metadata": {},
     "output_type": "execute_result"
    }
   ],
   "source": [
    "df.head()"
   ]
  },
  {
   "cell_type": "code",
   "execution_count": 5,
   "id": "ccb12715",
   "metadata": {},
   "outputs": [],
   "source": [
    "from imblearn.over_sampling import SMOTE, ADASYN\n",
    "from imblearn.under_sampling import RandomUnderSampler\n",
    "from imblearn.combine import SMOTEENN\n",
    "from sklearn.feature_extraction.text import TfidfVectorizer\n",
    "from sklearn.model_selection import train_test_split\n",
    "from sklearn.ensemble import RandomForestClassifier\n",
    "from sklearn.metrics import accuracy_score, classification_report, confusion_matrix\n",
    "import mlflow.sklearn\n",
    "import matplotlib.pyplot as plt\n",
    "import seaborn as sns"
   ]
  },
  {
   "cell_type": "code",
   "execution_count": 9,
   "id": "95925dc9",
   "metadata": {},
   "outputs": [
    {
     "name": "stderr",
     "output_type": "stream",
     "text": [
      "2025/10/26 20:12:57 WARNING mlflow.utils.environment: Failed to resolve installed pip version. ``pip`` will be added to conda.yaml environment spec without a version specifier.\n",
      "2025/10/26 20:12:57 WARNING mlflow.models.model: Model logged without a signature and input example. Please set `input_example` parameter when logging the model to auto infer the model signature.\n",
      "Successfully registered model 'random_forest_model_tfidf_bigram_imbalance_class_weights'.\n",
      "2025/10/26 20:13:03 INFO mlflow.store.model_registry.abstract_store: Waiting up to 300 seconds for model version to finish creation. Model name: random_forest_model_tfidf_bigram_imbalance_class_weights, version 1\n",
      "Created version '1' of model 'random_forest_model_tfidf_bigram_imbalance_class_weights'.\n"
     ]
    },
    {
     "name": "stdout",
     "output_type": "stream",
     "text": [
      "🏃 View run Imbalance_class_weights_RandomForest_TFIDF_Bigrams at: http://ec2-13-211-98-126.ap-southeast-2.compute.amazonaws.com:5000/#/experiments/929218055700625099/runs/bec338d033c045d8b58aed325bdc0677\n",
      "🧪 View experiment at: http://ec2-13-211-98-126.ap-southeast-2.compute.amazonaws.com:5000/#/experiments/929218055700625099\n"
     ]
    },
    {
     "name": "stderr",
     "output_type": "stream",
     "text": [
      "2025/10/26 20:13:32 WARNING mlflow.utils.environment: Failed to resolve installed pip version. ``pip`` will be added to conda.yaml environment spec without a version specifier.\n",
      "2025/10/26 20:13:32 WARNING mlflow.models.model: Model logged without a signature and input example. Please set `input_example` parameter when logging the model to auto infer the model signature.\n",
      "Successfully registered model 'random_forest_model_tfidf_bigram_imbalance_oversampling'.\n",
      "2025/10/26 20:13:39 INFO mlflow.store.model_registry.abstract_store: Waiting up to 300 seconds for model version to finish creation. Model name: random_forest_model_tfidf_bigram_imbalance_oversampling, version 1\n",
      "Created version '1' of model 'random_forest_model_tfidf_bigram_imbalance_oversampling'.\n"
     ]
    },
    {
     "name": "stdout",
     "output_type": "stream",
     "text": [
      "🏃 View run Imbalance_oversampling_RandomForest_TFIDF_Bigrams at: http://ec2-13-211-98-126.ap-southeast-2.compute.amazonaws.com:5000/#/experiments/929218055700625099/runs/5a652b9651c641999d7c5d7021a09bf7\n",
      "🧪 View experiment at: http://ec2-13-211-98-126.ap-southeast-2.compute.amazonaws.com:5000/#/experiments/929218055700625099\n"
     ]
    },
    {
     "name": "stderr",
     "output_type": "stream",
     "text": [
      "2025/10/26 20:14:26 WARNING mlflow.utils.environment: Failed to resolve installed pip version. ``pip`` will be added to conda.yaml environment spec without a version specifier.\n",
      "2025/10/26 20:14:26 WARNING mlflow.models.model: Model logged without a signature and input example. Please set `input_example` parameter when logging the model to auto infer the model signature.\n",
      "Successfully registered model 'random_forest_model_tfidf_bigram_imbalance_adasyn'.\n",
      "2025/10/26 20:14:33 INFO mlflow.store.model_registry.abstract_store: Waiting up to 300 seconds for model version to finish creation. Model name: random_forest_model_tfidf_bigram_imbalance_adasyn, version 1\n",
      "Created version '1' of model 'random_forest_model_tfidf_bigram_imbalance_adasyn'.\n"
     ]
    },
    {
     "name": "stdout",
     "output_type": "stream",
     "text": [
      "🏃 View run Imbalance_adasyn_RandomForest_TFIDF_Bigrams at: http://ec2-13-211-98-126.ap-southeast-2.compute.amazonaws.com:5000/#/experiments/929218055700625099/runs/d9b32e89ea4c4be988fc29ec70414f8d\n",
      "🧪 View experiment at: http://ec2-13-211-98-126.ap-southeast-2.compute.amazonaws.com:5000/#/experiments/929218055700625099\n"
     ]
    },
    {
     "name": "stderr",
     "output_type": "stream",
     "text": [
      "2025/10/26 20:15:00 WARNING mlflow.utils.environment: Failed to resolve installed pip version. ``pip`` will be added to conda.yaml environment spec without a version specifier.\n",
      "2025/10/26 20:15:00 WARNING mlflow.models.model: Model logged without a signature and input example. Please set `input_example` parameter when logging the model to auto infer the model signature.\n",
      "Successfully registered model 'random_forest_model_tfidf_bigram_imbalance_undersampling'.\n",
      "2025/10/26 20:15:06 INFO mlflow.store.model_registry.abstract_store: Waiting up to 300 seconds for model version to finish creation. Model name: random_forest_model_tfidf_bigram_imbalance_undersampling, version 1\n",
      "Created version '1' of model 'random_forest_model_tfidf_bigram_imbalance_undersampling'.\n"
     ]
    },
    {
     "name": "stdout",
     "output_type": "stream",
     "text": [
      "🏃 View run Imbalance_undersampling_RandomForest_TFIDF_Bigrams at: http://ec2-13-211-98-126.ap-southeast-2.compute.amazonaws.com:5000/#/experiments/929218055700625099/runs/edb4fefd800840d4b31747210f46f726\n",
      "🧪 View experiment at: http://ec2-13-211-98-126.ap-southeast-2.compute.amazonaws.com:5000/#/experiments/929218055700625099\n"
     ]
    },
    {
     "name": "stderr",
     "output_type": "stream",
     "text": [
      "c:\\Users\\RadhikaMaheshwari\\Downloads\\mlops_sentiment_analysis\\.venv\\Lib\\site-packages\\sklearn\\metrics\\_classification.py:1731: UndefinedMetricWarning: Precision is ill-defined and being set to 0.0 in labels with no predicted samples. Use `zero_division` parameter to control this behavior.\n",
      "  _warn_prf(average, modifier, f\"{metric.capitalize()} is\", result.shape[0])\n",
      "c:\\Users\\RadhikaMaheshwari\\Downloads\\mlops_sentiment_analysis\\.venv\\Lib\\site-packages\\sklearn\\metrics\\_classification.py:1731: UndefinedMetricWarning: Precision is ill-defined and being set to 0.0 in labels with no predicted samples. Use `zero_division` parameter to control this behavior.\n",
      "  _warn_prf(average, modifier, f\"{metric.capitalize()} is\", result.shape[0])\n",
      "c:\\Users\\RadhikaMaheshwari\\Downloads\\mlops_sentiment_analysis\\.venv\\Lib\\site-packages\\sklearn\\metrics\\_classification.py:1731: UndefinedMetricWarning: Precision is ill-defined and being set to 0.0 in labels with no predicted samples. Use `zero_division` parameter to control this behavior.\n",
      "  _warn_prf(average, modifier, f\"{metric.capitalize()} is\", result.shape[0])\n",
      "2025/10/26 20:16:12 WARNING mlflow.utils.environment: Failed to resolve installed pip version. ``pip`` will be added to conda.yaml environment spec without a version specifier.\n",
      "2025/10/26 20:16:12 WARNING mlflow.models.model: Model logged without a signature and input example. Please set `input_example` parameter when logging the model to auto infer the model signature.\n",
      "Successfully registered model 'random_forest_model_tfidf_bigram_imbalance_smote_enn'.\n",
      "2025/10/26 20:16:16 INFO mlflow.store.model_registry.abstract_store: Waiting up to 300 seconds for model version to finish creation. Model name: random_forest_model_tfidf_bigram_imbalance_smote_enn, version 1\n",
      "Created version '1' of model 'random_forest_model_tfidf_bigram_imbalance_smote_enn'.\n"
     ]
    },
    {
     "name": "stdout",
     "output_type": "stream",
     "text": [
      "🏃 View run Imbalance_smote_enn_RandomForest_TFIDF_Bigrams at: http://ec2-13-211-98-126.ap-southeast-2.compute.amazonaws.com:5000/#/experiments/929218055700625099/runs/af985a0c863843ce8f95020b6d76ae8f\n",
      "🧪 View experiment at: http://ec2-13-211-98-126.ap-southeast-2.compute.amazonaws.com:5000/#/experiments/929218055700625099\n"
     ]
    }
   ],
   "source": [
    "def run_imbalances_experiment(imbalance_method):\n",
    "    ngram_range = (1,2)  # Found out using the experiment earlier that we have to choose TFIDF and that too with bigram setting\n",
    "    max_features = 1000 # Found out using the experiment earlier\n",
    "\n",
    "    # Train test split\n",
    "    X_train, X_test, y_train, y_test = train_test_split(df['clean_comment'], \n",
    "                                                        df['category'], \n",
    "                                                        test_size=0.2, \n",
    "                                                        random_state=42,\n",
    "                                                        stratify=df['category']\n",
    "                                                        )\n",
    "    \n",
    "    vectorizer = TfidfVectorizer(ngram_range=ngram_range,\n",
    "                                 max_features=max_features)\n",
    "    X_train_vec = vectorizer.fit_transform(X_train)\n",
    "    X_test_vec = vectorizer.transform(X_test)\n",
    "\n",
    "    if imbalance_method == 'class_weights':\n",
    "        # use class weights in Random Forest\n",
    "        class_weight = 'balanced'\n",
    "    else:\n",
    "        class_weight = None # Do not apply class weights if using resampling\n",
    "\n",
    "        # Resampling techniques (only apply to training set)\n",
    "        if imbalance_method == 'oversampling':\n",
    "            smote = SMOTE(random_state = 42)\n",
    "            X_train_vec, y_train = smote.fit_resample(X_train_vec, y_train)\n",
    "        elif imbalance_method == 'adasyn':\n",
    "            adasyn = ADASYN(random_state=42)\n",
    "            X_train_vec, y_train = adasyn.fit_resample(X_train_vec, y_train)\n",
    "        elif imbalance_method == 'undersampling':\n",
    "            rus = RandomUnderSampler(random_state=42)\n",
    "            X_train_vec, y_train = rus.fit_resample(X_train_vec, y_train)\n",
    "        elif imbalance_method == 'smote_enn':\n",
    "            smote_enn = SMOTEENN(random_state=42)\n",
    "            X_train_vec, y_train = smote_enn.fit_resample(X_train_vec, y_train)\n",
    "    \n",
    "    with mlflow.start_run() as run:\n",
    "        mlflow.set_tag('mlflow.runName', f\"Imbalance_{imbalance_method}_RandomForest_TFIDF_Bigrams\")\n",
    "        mlflow.set_tag('experiment_type', 'imbalance_handling')\n",
    "        mlflow.set_tag('model_type', 'RandomForestClassifier')\n",
    "\n",
    "        mlflow.set_tag('description', f'RandomForest with TFIDF bigrams, imbalance handling method = {imbalance_method}')\n",
    "\n",
    "        # Log vectorization parameters\n",
    "        mlflow.log_param(\"vectorizer_type\", 'TFIDF')\n",
    "        mlflow.log_param(\"ngram_range\", ngram_range)\n",
    "        mlflow.log_param(\"vectorizer_max_features\", max_features)\n",
    "\n",
    "        # Log Random Forest params\n",
    "        n_estimators = 200\n",
    "        max_depth = 15\n",
    "        mlflow.log_param(\"n_estimators\", n_estimators)\n",
    "        mlflow.log_param(\"max_depth\", max_depth)\n",
    "        mlflow.log_param(\"imbalance_method\", imbalance_method)\n",
    "\n",
    "        # Initialise and train model\n",
    "        model = RandomForestClassifier(n_estimators=n_estimators, \n",
    "                                       max_depth=max_depth,\n",
    "                                       random_state=42,\n",
    "                                       class_weight=class_weight)\n",
    "        model.fit(X_train_vec, y_train)\n",
    "\n",
    "        y_pred_test = model.predict(X_test_vec)\n",
    "        y_pred_train = model.predict(X_train_vec)\n",
    "\n",
    "        # Log accuracy\n",
    "        accuracy_score_train = accuracy_score(y_test, y_pred_test)\n",
    "        accuracy_score_test = accuracy_score(y_train, y_pred_train)\n",
    "        mlflow.log_metric(\"accuracy_score_test\", accuracy_score_test)\n",
    "        mlflow.log_metric(\"accuracy_score_train\", accuracy_score_train)\n",
    "\n",
    "        # Log classification report\n",
    "        classification_rep = classification_report(y_test, y_pred_test, output_dict=True)\n",
    "        for label, metrics in classification_rep.items():\n",
    "            if isinstance(metrics, dict):\n",
    "                for metric, value in metrics.items():\n",
    "                    mlflow.log_metric(f\"{label}_{metric}\", value)\n",
    "        \n",
    "\n",
    "        # Log confusion matrix\n",
    "        conf_matrix = confusion_matrix(y_test, y_pred_test)\n",
    "        plt.figure(figsize = (8, 6))\n",
    "        sns.heatmap(conf_matrix, annot=True, fmt = 'd', cmap = 'Blues')\n",
    "        plt.xlabel(\"Predicted\")\n",
    "        plt.ylabel(\"Actual\")\n",
    "        plt.title(f\"Confusion Matrix: TFIDF Bigrams, imbalance = {imbalance_method}\")\n",
    "        plt.savefig(f'confusion_matrix_{imbalance_method}.png')\n",
    "        mlflow.log_artifact(f'confusion_matrix_{imbalance_method}.png')\n",
    "        plt.close()\n",
    "\n",
    "        # Log model\n",
    "        mlflow.sklearn.log_model(model, \n",
    "                                 name = f\"random_forest_model_tfidf_bigram_imbalance_{imbalance_method}\",\n",
    "                                 registered_model_name= f\"random_forest_model_tfidf_bigram_imbalance_{imbalance_method}\")\n",
    "    \n",
    "\n",
    "imbalance_method = ['class_weights', 'oversampling', 'adasyn', 'undersampling', 'smote_enn']\n",
    "\n",
    "for method in imbalance_method:\n",
    "    run_imbalances_experiment(method)\n"
   ]
  },
  {
   "cell_type": "code",
   "execution_count": null,
   "id": "bbc211f2",
   "metadata": {},
   "outputs": [],
   "source": []
  },
  {
   "cell_type": "code",
   "execution_count": null,
   "id": "beccd6c0",
   "metadata": {},
   "outputs": [],
   "source": []
  }
 ],
 "metadata": {
  "kernelspec": {
   "display_name": "mlops_sentiment_analysis",
   "language": "python",
   "name": "python3"
  },
  "language_info": {
   "codemirror_mode": {
    "name": "ipython",
    "version": 3
   },
   "file_extension": ".py",
   "mimetype": "text/x-python",
   "name": "python",
   "nbconvert_exporter": "python",
   "pygments_lexer": "ipython3",
   "version": "3.12.2"
  }
 },
 "nbformat": 4,
 "nbformat_minor": 5
}
